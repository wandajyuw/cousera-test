{
 "cells": [
  {
   "cell_type": "code",
   "execution_count": 3,
   "id": "be00649b",
   "metadata": {},
   "outputs": [],
   "source": [
    "import glob\n",
    "import os\n",
    "arr = os.listdir('C:/Users/jyuw/Dropbox/Jan11/01PledgeDS/pollution/tables/tmp/')\n",
    "txtfiles = []\n",
    "for file in glob.glob(\"C:/Users/jyuw/Dropbox/Jan11/01PledgeDS/pollution/tables/tmp4//*.tex\"):\n",
    "    txtfiles.append(file)"
   ]
  },
  {
   "cell_type": "code",
   "execution_count": 4,
   "id": "b4037101",
   "metadata": {},
   "outputs": [
    {
     "data": {
      "text/plain": [
       "80"
      ]
     },
     "execution_count": 4,
     "metadata": {},
     "output_type": "execute_result"
    }
   ],
   "source": [
    "len(txtfiles )"
   ]
  },
  {
   "cell_type": "code",
   "execution_count": 5,
   "id": "157db8de",
   "metadata": {},
   "outputs": [
    {
     "name": "stdout",
     "output_type": "stream",
     "text": [
      "\\import{tab}{Table_gvkeycheyrLevel_cum_pr_w.tex}\n",
      "\\import{tab}{Table_gvkeycheyrLevel_dummy_clean_and_degreas.tex}\n",
      "\\import{tab}{Table_gvkeycheyrLevel_dummy_good_op_pract.tex}\n",
      "\\import{tab}{Table_gvkeycheyrLevel_dummy_inventory_control.tex}\n",
      "\\import{tab}{Table_gvkeycheyrLevel_dummy_process_modifications.tex}\n",
      "\\import{tab}{Table_gvkeycheyrLevel_dummy_product_modifications.tex}\n",
      "\\import{tab}{Table_gvkeycheyrLevel_dummy_raw_material_modifications.tex}\n",
      "\\import{tab}{Table_gvkeycheyrLevel_dummy_spill_and_leak_prevention.tex}\n",
      "\\import{tab}{Table_gvkeycheyrLevel_dummy_surf_prep_and_finishing.tex}\n",
      "\\import{tab}{Table_gvkeycheyrLevel_eff_w.tex}\n",
      "\\import{tab}{Table_gvkeycheyrLevel_logair.tex}\n",
      "\\import{tab}{Table_gvkeycheyrLevel_logCAArelease.tex}\n",
      "\\import{tab}{Table_gvkeycheyrLevel_logCERCLArelease.tex}\n",
      "\\import{tab}{Table_gvkeycheyrLevel_logground.tex}\n",
      "\\import{tab}{Table_gvkeycheyrLevel_logHazard.tex}\n",
      "\\import{tab}{Table_gvkeycheyrLevel_logHthEffrelease.tex}\n",
      "\\import{tab}{Table_gvkeycheyrLevel_lognoHthEffrelease.tex}\n",
      "\\import{tab}{Table_gvkeycheyrLevel_logOSHArelease.tex}\n",
      "\\import{tab}{Table_gvkeycheyrLevel_logp.tex}\n",
      "\\import{tab}{Table_gvkeycheyrLevel_logwater.tex}\n",
      "\\import{tab}{Table_gvkeycheyrLevel_log_adj_abatement.tex}\n",
      "\\import{tab}{Table_gvkeycheyrLevel_log_clean_and_degreas.tex}\n",
      "\\import{tab}{Table_gvkeycheyrLevel_log_good_op_pract.tex}\n",
      "\\import{tab}{Table_gvkeycheyrLevel_log_inventory_control.tex}\n",
      "\\import{tab}{Table_gvkeycheyrLevel_log_process_modifications.tex}\n",
      "\\import{tab}{Table_gvkeycheyrLevel_log_product_modifications.tex}\n",
      "\\import{tab}{Table_gvkeycheyrLevel_log_raw_material_modifications.tex}\n",
      "\\import{tab}{Table_gvkeycheyrLevel_log_spill_and_leak_prevention.tex}\n",
      "\\import{tab}{Table_gvkeycheyrLevel_log_surf_prep_and_finishing.tex}\n",
      "\\import{tab}{Table_gvkeycheyrLevel_pps.tex}\n",
      "\\import{tab}{Table_gvkeycheyrLevel_productionratio_w.tex}\n",
      "\\import{tab}{Table_gvkeyyrLevel_cogs_sale.tex}\n",
      "\\import{tab}{Table_gvkeyyrLevel_logair.tex}\n",
      "\\import{tab}{Table_gvkeyyrLevel_logCAArelease.tex}\n",
      "\\import{tab}{Table_gvkeyyrLevel_logCERCLArelease.tex}\n",
      "\\import{tab}{Table_gvkeyyrLevel_logground.tex}\n",
      "\\import{tab}{Table_gvkeyyrLevel_logHazard.tex}\n",
      "\\import{tab}{Table_gvkeyyrLevel_logHthEffrelease.tex}\n",
      "\\import{tab}{Table_gvkeyyrLevel_lognoHthEffrelease.tex}\n",
      "\\import{tab}{Table_gvkeyyrLevel_logOSHArelease.tex}\n",
      "\\import{tab}{Table_gvkeyyrLevel_logwater.tex}\n",
      "\\import{tab}{Table_hetro_gvkeycheyr_highcntygth.tex}\n",
      "\\import{tab}{Table_hetro_gvkeycheyr_high_redeploy.tex}\n",
      "\\import{tab}{Table_hetro_gvkeycheyr_high_vega.tex}\n",
      "\\import{tab}{Table_hetro_gvkeycheyr_passive.tex}\n",
      "\\import{tab}{Table_hetro_tricheyr_highcntygth.tex}\n",
      "\\import{tab}{Table_hetro_tricheyr_high_redeploy.tex}\n",
      "\\import{tab}{Table_hetro_tricheyr_high_vega.tex}\n",
      "\\import{tab}{Table_hetro_tricheyr_passive.tex}\n",
      "\\import{tab}{Table_tricheyrLevel_cum_pr_w.tex}\n",
      "\\import{tab}{Table_tricheyrLevel_dummy_clean_and_degreas.tex}\n",
      "\\import{tab}{Table_tricheyrLevel_dummy_good_op_pract.tex}\n",
      "\\import{tab}{Table_tricheyrLevel_dummy_inventory_control.tex}\n",
      "\\import{tab}{Table_tricheyrLevel_dummy_process_modifications.tex}\n",
      "\\import{tab}{Table_tricheyrLevel_dummy_product_modifications.tex}\n",
      "\\import{tab}{Table_tricheyrLevel_dummy_raw_material_modifications.tex}\n",
      "\\import{tab}{Table_tricheyrLevel_dummy_spill_and_leak_prevention.tex}\n",
      "\\import{tab}{Table_tricheyrLevel_dummy_surf_prep_and_finishing.tex}\n",
      "\\import{tab}{Table_tricheyrLevel_eff_w.tex}\n",
      "\\import{tab}{Table_tricheyrLevel_logair.tex}\n",
      "\\import{tab}{Table_tricheyrLevel_logCAArelease.tex}\n",
      "\\import{tab}{Table_tricheyrLevel_logCERCLArelease.tex}\n",
      "\\import{tab}{Table_tricheyrLevel_logground.tex}\n",
      "\\import{tab}{Table_tricheyrLevel_logHazard.tex}\n",
      "\\import{tab}{Table_tricheyrLevel_logHthEffrelease.tex}\n",
      "\\import{tab}{Table_tricheyrLevel_lognoHthEffrelease.tex}\n",
      "\\import{tab}{Table_tricheyrLevel_logOSHArelease.tex}\n",
      "\\import{tab}{Table_tricheyrLevel_logp.tex}\n",
      "\\import{tab}{Table_tricheyrLevel_logwater.tex}\n",
      "\\import{tab}{Table_tricheyrLevel_log_adj_abatement.tex}\n",
      "\\import{tab}{Table_tricheyrLevel_log_clean_and_degreas.tex}\n",
      "\\import{tab}{Table_tricheyrLevel_log_good_op_pract.tex}\n",
      "\\import{tab}{Table_tricheyrLevel_log_inventory_control.tex}\n",
      "\\import{tab}{Table_tricheyrLevel_log_process_modifications.tex}\n",
      "\\import{tab}{Table_tricheyrLevel_log_product_modifications.tex}\n",
      "\\import{tab}{Table_tricheyrLevel_log_raw_material_modifications.tex}\n",
      "\\import{tab}{Table_tricheyrLevel_log_spill_and_leak_prevention.tex}\n",
      "\\import{tab}{Table_tricheyrLevel_log_surf_prep_and_finishing.tex}\n",
      "\\import{tab}{Table_tricheyrLevel_pps.tex}\n",
      "\\import{tab}{Table_tricheyrLevel_productionratio_w.tex}\n"
     ]
    }
   ],
   "source": [
    "res = [sub.replace('C:/Users/jyuw/Dropbox/Jan11/01PledgeDS/pollution/tables/tmp4\\\\', '\\import{tab}{') for sub in txtfiles]\n",
    "res = [i + \"}\" for i in res] \n",
    "for i in res: \n",
    "    print(i)"
   ]
  },
  {
   "cell_type": "code",
   "execution_count": 5,
   "id": "d65d5b8e",
   "metadata": {},
   "outputs": [
    {
     "ename": "NameError",
     "evalue": "name 'texdoc' is not defined",
     "output_type": "error",
     "traceback": [
      "\u001b[1;31m---------------------------------------------------------------------------\u001b[0m",
      "\u001b[1;31mNameError\u001b[0m                                 Traceback (most recent call last)",
      "\u001b[1;32m<ipython-input-5-155e76b13192>\u001b[0m in \u001b[0;36m<module>\u001b[1;34m\u001b[0m\n\u001b[0;32m      1\u001b[0m \u001b[1;32mwith\u001b[0m \u001b[0mopen\u001b[0m\u001b[1;33m(\u001b[0m\u001b[0mtxtfiles\u001b[0m\u001b[1;33m[\u001b[0m\u001b[1;36m0\u001b[0m\u001b[1;33m]\u001b[0m\u001b[1;33m)\u001b[0m \u001b[1;32mas\u001b[0m \u001b[0mfin\u001b[0m\u001b[1;33m:\u001b[0m\u001b[1;33m\u001b[0m\u001b[1;33m\u001b[0m\u001b[0m\n\u001b[0;32m      2\u001b[0m     \u001b[1;32mfor\u001b[0m \u001b[0mline\u001b[0m \u001b[1;32min\u001b[0m \u001b[0mfin\u001b[0m\u001b[1;33m:\u001b[0m\u001b[1;33m\u001b[0m\u001b[1;33m\u001b[0m\u001b[0m\n\u001b[1;32m----> 3\u001b[1;33m         \u001b[0mtexdoc\u001b[0m\u001b[1;33m.\u001b[0m\u001b[0mwrite\u001b[0m\u001b[1;33m(\u001b[0m\u001b[0mline\u001b[0m\u001b[1;33m.\u001b[0m\u001b[0mreplace\u001b[0m\u001b[1;33m(\u001b[0m\u001b[1;34m'4) & tot'\u001b[0m\u001b[1;33m,\u001b[0m \u001b[1;34m'4) \\& tot'\u001b[0m\u001b[1;33m)\u001b[0m\u001b[1;33m)\u001b[0m\u001b[1;33m\u001b[0m\u001b[1;33m\u001b[0m\u001b[0m\n\u001b[0m",
      "\u001b[1;31mNameError\u001b[0m: name 'texdoc' is not defined"
     ]
    }
   ],
   "source": [
    "with open(txtfiles[0]) as fin:\n",
    "    for line in fin:\n",
    "        texdoc.write(line.replace('4) & tot', '4) \\& tot')) "
   ]
  },
  {
   "cell_type": "code",
   "execution_count": 7,
   "id": "e2478d0c",
   "metadata": {},
   "outputs": [],
   "source": [
    "for i in range(0,len(txtfiles)):\n",
    "# Read in the file\n",
    "    with open(txtfiles[i], 'r') as file :\n",
    "      filedata = file.read()\n",
    "\n",
    "    # Replace the target string\n",
    "    filedata = filedata.replace('4) & tot', '4) \\& tot')\n",
    "    filedata = filedata.replace('_', ' ')\n",
    "    filedata = filedata.replace('>', '$>$')\n",
    "    filedata = filedata.replace('log(Pollution)', 'log(P)')\n",
    "    # Write the file out again\n",
    "    with open(txtfiles[i], 'w') as file:\n",
    "      file.write(filedata)"
   ]
  },
  {
   "cell_type": "code",
   "execution_count": null,
   "id": "f33b64da",
   "metadata": {},
   "outputs": [],
   "source": []
  },
  {
   "cell_type": "code",
   "execution_count": 61,
   "id": "2d2d2e6d",
   "metadata": {},
   "outputs": [
    {
     "data": {
      "text/plain": [
       "['C:/Users/jyuw/Dropbox/Jan11/01PledgeDS/pollution/code_j\\\\00.do',\n",
       " 'C:/Users/jyuw/Dropbox/Jan11/01PledgeDS/pollution/code_j\\\\01.do',\n",
       " 'C:/Users/jyuw/Dropbox/Jan11/01PledgeDS/pollution/code_j\\\\02.do',\n",
       " 'C:/Users/jyuw/Dropbox/Jan11/01PledgeDS/pollution/code_j\\\\air_water_ground.do',\n",
       " 'C:/Users/jyuw/Dropbox/Jan11/01PledgeDS/pollution/code_j\\\\app_alterY.do',\n",
       " 'C:/Users/jyuw/Dropbox/Jan11/01PledgeDS/pollution/code_j\\\\app_cogs.do',\n",
       " 'C:/Users/jyuw/Dropbox/Jan11/01PledgeDS/pollution/code_j\\\\app_owner.do',\n",
       " 'C:/Users/jyuw/Dropbox/Jan11/01PledgeDS/pollution/code_j\\\\app_ppl.do',\n",
       " 'C:/Users/jyuw/Dropbox/Jan11/01PledgeDS/pollution/code_j\\\\app_production.do',\n",
       " 'C:/Users/jyuw/Dropbox/Jan11/01PledgeDS/pollution/code_j\\\\app_vega.do',\n",
       " 'C:/Users/jyuw/Dropbox/Jan11/01PledgeDS/pollution/code_j\\\\chemicals.do',\n",
       " 'C:/Users/jyuw/Dropbox/Jan11/01PledgeDS/pollution/code_j\\\\defindex.do',\n",
       " 'C:/Users/jyuw/Dropbox/Jan11/01PledgeDS/pollution/code_j\\\\fig_parallel_trend.do',\n",
       " 'C:/Users/jyuw/Dropbox/Jan11/01PledgeDS/pollution/code_j\\\\f_high_hostile.do',\n",
       " 'C:/Users/jyuw/Dropbox/Jan11/01PledgeDS/pollution/code_j\\\\industry5.do',\n",
       " 'C:/Users/jyuw/Dropbox/Jan11/01PledgeDS/pollution/code_j\\\\p2clean.do',\n",
       " 'C:/Users/jyuw/Dropbox/Jan11/01PledgeDS/pollution/code_j\\\\tab4.do',\n",
       " 'C:/Users/jyuw/Dropbox/Jan11/01PledgeDS/pollution/code_j\\\\tab5_redeployability.do',\n",
       " 'C:/Users/jyuw/Dropbox/Jan11/01PledgeDS/pollution/code_j\\\\tab6_p2.do',\n",
       " 'C:/Users/jyuw/Dropbox/Jan11/01PledgeDS/pollution/code_j\\\\tab6_p2_firml.do',\n",
       " 'C:/Users/jyuw/Dropbox/Jan11/01PledgeDS/pollution/code_j\\\\tab_1_2_3.do']"
      ]
     },
     "execution_count": 61,
     "metadata": {},
     "output_type": "execute_result"
    }
   ],
   "source": [
    "dofiles = []\n",
    "for file in glob.glob(\"C:/Users/jyuw/Dropbox/Jan11/01PledgeDS/pollution/code_j/*.do\"):\n",
    "    dofiles.append(file)\n",
    "dofiles"
   ]
  },
  {
   "cell_type": "code",
   "execution_count": 53,
   "id": "cf5a7ec1",
   "metadata": {},
   "outputs": [
    {
     "name": "stdout",
     "output_type": "stream",
     "text": [
      "do \"$do/00.do\"\n",
      "do \"$do/01.do\"\n",
      "do \"$do/02.do\"\n",
      "do \"$do/air_water_ground.do\"\n",
      "do \"$do/app_alterY.do\"\n",
      "do \"$do/app_cogs.do\"\n",
      "do \"$do/app_owner.do\"\n",
      "do \"$do/app_ppl.do\"\n",
      "do \"$do/app_production.do\"\n",
      "do \"$do/app_vega.do\"\n",
      "do \"$do/chemicals.do\"\n",
      "do \"$do/defindex.do\"\n",
      "do \"$do/fig_parallel_trend.do\"\n",
      "do \"$do/industry5.do\"\n",
      "do \"$do/p2clean.do\"\n",
      "do \"$do/tab4.do\"\n",
      "do \"$do/tab5_redeployability.do\"\n",
      "do \"$do/tab6_p2.do\"\n",
      "do \"$do/tab6_p2_firml.do\"\n",
      "do \"$do/tab_1_2_3.do\"\n"
     ]
    }
   ],
   "source": [
    "res = [sub.replace('C:/Users/jyuw/Dropbox/Jan11/01PledgeDS/pollution/code_j\\\\', 'do \"$do/') for sub in txtfiles]\n",
    "res = [i + '\"' for i in res] \n",
    "for i in res: \n",
    "    print(i)"
   ]
  },
  {
   "cell_type": "code",
   "execution_count": null,
   "id": "46575706",
   "metadata": {},
   "outputs": [],
   "source": []
  },
  {
   "cell_type": "code",
   "execution_count": null,
   "id": "dd257d19",
   "metadata": {},
   "outputs": [],
   "source": []
  },
  {
   "cell_type": "code",
   "execution_count": null,
   "id": "0e09885e",
   "metadata": {},
   "outputs": [],
   "source": []
  },
  {
   "cell_type": "code",
   "execution_count": 2,
   "id": "f61cc835",
   "metadata": {},
   "outputs": [
    {
     "name": "stdout",
     "output_type": "stream",
     "text": [
      "\\import{tab}{ia.tex}\n",
      "\\import{tab}{id.tex}\n",
      "\\import{tab}{inv_turn.tex}\n",
      "\\import{tab}{is.tex}\n",
      "\\import{tab}{raw_sale.tex}\n"
     ]
    }
   ],
   "source": [
    "import glob\n",
    "import os\n",
    "txtfiles = []\n",
    "path = \"C:/Users/jyuw/Dropbox/Jan11/01PledgeDS/LaborU_j/tab/funda/\"\n",
    "for file in glob.glob(\"C:/Users/jyuw/Dropbox/Jan11/01PledgeDS/LaborU_j/tab/funda/*.tex\"):\n",
    "    txtfiles.append(file)\n",
    "    \n",
    "res = [sub.replace('C:/Users/jyuw/Dropbox/Jan11/01PledgeDS/LaborU_j/tab/funda\\\\', '\\import{tab}{') for sub in txtfiles]\n",
    "res = [i + \"}\" for i in res] \n",
    "for i in res: \n",
    "    print(i)\n",
    "    "
   ]
  }
 ],
 "metadata": {
  "kernelspec": {
   "display_name": "Python 3",
   "language": "python",
   "name": "python3"
  },
  "language_info": {
   "codemirror_mode": {
    "name": "ipython",
    "version": 3
   },
   "file_extension": ".py",
   "mimetype": "text/x-python",
   "name": "python",
   "nbconvert_exporter": "python",
   "pygments_lexer": "ipython3",
   "version": "3.8.8"
  },
  "toc": {
   "base_numbering": 1,
   "nav_menu": {},
   "number_sections": true,
   "sideBar": true,
   "skip_h1_title": false,
   "title_cell": "Table of Contents",
   "title_sidebar": "Contents",
   "toc_cell": false,
   "toc_position": {},
   "toc_section_display": true,
   "toc_window_display": false
  }
 },
 "nbformat": 4,
 "nbformat_minor": 5
}
